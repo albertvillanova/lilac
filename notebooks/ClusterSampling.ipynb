{
 "cells": [
  {
   "cell_type": "code",
   "execution_count": 14,
   "metadata": {},
   "outputs": [
    {
     "name": "stdout",
     "output_type": "stream",
     "text": [
      "The autoreload extension is already loaded. To reload it, use:\n",
      "  %reload_ext autoreload\n"
     ]
    }
   ],
   "source": [
    "%load_ext autoreload\n",
    "%autoreload 2\n",
    "import lilac as ll\n",
    "\n",
    "ll.set_project_dir('./data')\n",
    "\n",
    "ds = ll.get_dataset('local', 'OpenHermes-2.5')\n",
    "\n",
    "# cluster_id has many more clusters than the category (12k vs 300).\n",
    "CLUSTER_PATH = ('prompt__cluster', 'cluster_id')  # ('prompt__cluster', 'category_id')\n",
    "\n",
    "# Only select the top-k clusters, sorted by size.\n",
    "TOP_K_CLUSTERS = 2_000\n",
    "# The number of rows to select inside each cluster.\n",
    "NUM_ROWS_PER_CLUSTER = 1\n",
    "\n",
    "# When we select from a cluster, we select.\n",
    "CLUSTER_SORT_BY = ('prompt__cluster', 'cluster_membership_prob')\n",
    "CLUSTER_SORT_ORDER = ll.SortOrder.DESC"
   ]
  },
  {
   "cell_type": "code",
   "execution_count": 12,
   "metadata": {},
   "outputs": [
    {
     "name": "stdout",
     "output_type": "stream",
     "text": [
      "Number of clusters: 12034\n"
     ]
    }
   ],
   "source": [
    "groups = ds.select_groups(CLUSTER_PATH, sort_by=ll.GroupsSortBy.COUNT)\n",
    "print('Number of clusters:', len(groups.counts))"
   ]
  },
  {
   "cell_type": "code",
   "execution_count": 13,
   "metadata": {},
   "outputs": [
    {
     "name": "stderr",
     "output_type": "stream",
     "text": [
      "100%|██████████| 2000/2000 [08:07<00:00,  4.10it/s]\n"
     ]
    }
   ],
   "source": [
    "from tqdm import tqdm\n",
    "\n",
    "topk_clusters = groups.counts[:TOP_K_CLUSTERS]\n",
    "\n",
    "ds.remove_labels(f'keep-{TOP_K_CLUSTERS}-{NUM_ROWS_PER_CLUSTER}')\n",
    "for value, count in tqdm(topk_clusters):\n",
    "  ds.add_labels(\n",
    "    f'keep-{TOP_K_CLUSTERS}-{NUM_ROWS_PER_CLUSTER}',\n",
    "    filters=[(CLUSTER_PATH, 'equals', value)],\n",
    "    sort_by=[CLUSTER_SORT_BY],\n",
    "    sort_order=CLUSTER_SORT_ORDER,\n",
    "    limit=NUM_ROWS_PER_CLUSTER,\n",
    "  )"
   ]
  },
  {
   "cell_type": "code",
   "execution_count": null,
   "metadata": {},
   "outputs": [],
   "source": []
  }
 ],
 "metadata": {
  "kernelspec": {
   "display_name": ".venv",
   "language": "python",
   "name": "python3"
  },
  "language_info": {
   "codemirror_mode": {
    "name": "ipython",
    "version": 3
   },
   "file_extension": ".py",
   "mimetype": "text/x-python",
   "name": "python",
   "nbconvert_exporter": "python",
   "pygments_lexer": "ipython3",
   "version": "3.11.4"
  }
 },
 "nbformat": 4,
 "nbformat_minor": 2
}
